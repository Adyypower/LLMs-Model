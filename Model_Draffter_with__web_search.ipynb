{
  "nbformat": 4,
  "nbformat_minor": 0,
  "metadata": {
    "colab": {
      "provenance": [],
      "authorship_tag": "ABX9TyPGlZjeRnHicM7o/353/Eve",
      "include_colab_link": true
    },
    "kernelspec": {
      "name": "python3",
      "display_name": "Python 3"
    },
    "language_info": {
      "name": "python"
    }
  },
  "cells": [
    {
      "cell_type": "markdown",
      "metadata": {
        "id": "view-in-github",
        "colab_type": "text"
      },
      "source": [
        "<a href=\"https://colab.research.google.com/github/Adyypower/LLMs-Model/blob/main/Model_Draffter_with__web_search.ipynb\" target=\"_parent\"><img src=\"https://colab.research.google.com/assets/colab-badge.svg\" alt=\"Open In Colab\"/></a>"
      ]
    },
    {
      "cell_type": "code",
      "execution_count": 2,
      "metadata": {
        "colab": {
          "base_uri": "https://localhost:8080/"
        },
        "id": "gEGKROgYWR6i",
        "outputId": "35af53e9-5f88-4551-a6f8-294518efa5fc"
      },
      "outputs": [
        {
          "output_type": "stream",
          "name": "stdout",
          "text": [
            "\u001b[?25l   \u001b[90m━━━━━━━━━━━━━━━━━━━━━━━━━━━━━━━━━━━━━━━━\u001b[0m \u001b[32m0.0/50.7 kB\u001b[0m \u001b[31m?\u001b[0m eta \u001b[36m-:--:--\u001b[0m\r\u001b[2K   \u001b[90m━━━━━━━━━━━━━━━━━━━━━━━━━━━━━━━━━━━━━━━━\u001b[0m \u001b[32m50.7/50.7 kB\u001b[0m \u001b[31m3.0 MB/s\u001b[0m eta \u001b[36m0:00:00\u001b[0m\n",
            "\u001b[?25h\u001b[?25l   \u001b[90m━━━━━━━━━━━━━━━━━━━━━━━━━━━━━━━━━━━━━━━━\u001b[0m \u001b[32m0.0/155.4 kB\u001b[0m \u001b[31m?\u001b[0m eta \u001b[36m-:--:--\u001b[0m\r\u001b[2K   \u001b[90m━━━━━━━━━━━━━━━━━━━━━━━━━━━━━━━━━━━━━━━━\u001b[0m \u001b[32m155.4/155.4 kB\u001b[0m \u001b[31m11.8 MB/s\u001b[0m eta \u001b[36m0:00:00\u001b[0m\n",
            "\u001b[2K   \u001b[90m━━━━━━━━━━━━━━━━━━━━━━━━━━━━━━━━━━━━━━━━\u001b[0m \u001b[32m1.4/1.4 MB\u001b[0m \u001b[31m53.1 MB/s\u001b[0m eta \u001b[36m0:00:00\u001b[0m\n",
            "\u001b[2K   \u001b[90m━━━━━━━━━━━━━━━━━━━━━━━━━━━━━━━━━━━━━━━━\u001b[0m \u001b[32m45.8/45.8 kB\u001b[0m \u001b[31m3.4 MB/s\u001b[0m eta \u001b[36m0:00:00\u001b[0m\n",
            "\u001b[2K   \u001b[90m━━━━━━━━━━━━━━━━━━━━━━━━━━━━━━━━━━━━━━━━\u001b[0m \u001b[32m56.8/56.8 kB\u001b[0m \u001b[31m3.4 MB/s\u001b[0m eta \u001b[36m0:00:00\u001b[0m\n",
            "\u001b[2K   \u001b[90m━━━━━━━━━━━━━━━━━━━━━━━━━━━━━━━━━━━━━━━━\u001b[0m \u001b[32m207.6/207.6 kB\u001b[0m \u001b[31m15.9 MB/s\u001b[0m eta \u001b[36m0:00:00\u001b[0m\n",
            "\u001b[?25h\u001b[31mERROR: pip's dependency resolver does not currently take into account all the packages that are installed. This behaviour is the source of the following dependency conflicts.\n",
            "google-generativeai 0.8.5 requires google-ai-generativelanguage==0.6.15, but you have google-ai-generativelanguage 0.7.0 which is incompatible.\u001b[0m\u001b[31m\n",
            "\u001b[0m"
          ]
        }
      ],
      "source": [
        "!pip install -q -U langchain langchain-google-genai langgraph"
      ]
    },
    {
      "cell_type": "code",
      "source": [
        "!pip install -q langgraph ddgs"
      ],
      "metadata": {
        "colab": {
          "base_uri": "https://localhost:8080/"
        },
        "id": "7TGWUkJ8jgA1",
        "outputId": "e7f25d5c-cc02-43b1-d713-689bc6d59e21"
      },
      "execution_count": 3,
      "outputs": [
        {
          "output_type": "stream",
          "name": "stdout",
          "text": [
            "\u001b[2K   \u001b[90m━━━━━━━━━━━━━━━━━━━━━━━━━━━━━━━━━━━━━━━━\u001b[0m \u001b[32m41.6/41.6 kB\u001b[0m \u001b[31m2.5 MB/s\u001b[0m eta \u001b[36m0:00:00\u001b[0m\n",
            "\u001b[2K   \u001b[90m━━━━━━━━━━━━━━━━━━━━━━━━━━━━━━━━━━━━━━━━\u001b[0m \u001b[32m5.3/5.3 MB\u001b[0m \u001b[31m33.0 MB/s\u001b[0m eta \u001b[36m0:00:00\u001b[0m\n",
            "\u001b[2K   \u001b[90m━━━━━━━━━━━━━━━━━━━━━━━━━━━━━━━━━━━━━━━━\u001b[0m \u001b[32m3.3/3.3 MB\u001b[0m \u001b[31m64.2 MB/s\u001b[0m eta \u001b[36m0:00:00\u001b[0m\n",
            "\u001b[?25h"
          ]
        }
      ]
    },
    {
      "cell_type": "code",
      "source": [
        "from google.colab import userdata\n",
        "from typing import Annotated, Sequence, TypedDict\n",
        "\n",
        "from langchain_core.messages import BaseMessage, HumanMessage, SystemMessage, ToolMessage\n",
        "from langchain_google_genai import ChatGoogleGenerativeAI\n",
        "from langchain_core.tools import tool\n",
        "from langgraph.graph import StateGraph, END\n",
        "from langgraph.graph.message import add_messages\n",
        "from langgraph.prebuilt import ToolNode\n",
        "from ddgs import DDGS"
      ],
      "metadata": {
        "id": "J7JXMswwZYpX"
      },
      "execution_count": 4,
      "outputs": []
    },
    {
      "cell_type": "code",
      "source": [
        "import os\n",
        "try:\n",
        "    os.environ[\"GOOGLE_API_KEY\"]= userdata.get(\"GOOGLE_API_KEY\")\n",
        "except userdata.SecretNotFoundError:\n",
        "  print(\"ERROR: GOOGLE_API_KEY not found in Colab secrets.\")\n",
        "  print(\"Please go to 'Secrets' (the key icon in the left panel) and add your Google AI \")"
      ],
      "metadata": {
        "id": "PB9a43pPZwx_"
      },
      "execution_count": 5,
      "outputs": []
    },
    {
      "cell_type": "code",
      "source": [
        "document_content = \"\""
      ],
      "metadata": {
        "id": "dVbwkrcoaWcm"
      },
      "execution_count": 6,
      "outputs": []
    },
    {
      "cell_type": "code",
      "source": [
        "class AgentState(TypedDict):\n",
        "  messages: Annotated[Sequence[BaseMessage],add_messages]"
      ],
      "metadata": {
        "id": "plsABYfeaubi"
      },
      "execution_count": 7,
      "outputs": []
    },
    {
      "cell_type": "code",
      "source": [
        "@tool\n",
        "def update(content: str) -> str:\n",
        "    \"\"\"Updates the document with the provided content.\"\"\"\n",
        "    global document_content\n",
        "    document_content = content\n",
        "    return f\"Document has been updated successfully! The current content is:\\n{document_content}\"\n"
      ],
      "metadata": {
        "id": "szc7Pzq7bC27"
      },
      "execution_count": 8,
      "outputs": []
    },
    {
      "cell_type": "code",
      "source": [
        "@tool\n",
        "def search_web(query: str) -> str:\n",
        "    \"\"\"Searches the web for a given query to find up-to-date information.\"\"\"\n",
        "    print(f\"\\n🔎 Searching the web for: '{query}'...\")\n",
        "    try:\n",
        "        with DDGS() as ddgs:\n",
        "            results = [r for r in ddgs.text(query, max_results=4)]\n",
        "        print(\"✅ Search complete.\")\n",
        "        return str(results) if results else \"No results found.\"\n",
        "    except Exception as e:\n",
        "        return f\"Error during web search: {e}\""
      ],
      "metadata": {
        "id": "DIZ11E5Djz8o"
      },
      "execution_count": 10,
      "outputs": []
    },
    {
      "cell_type": "code",
      "source": [
        "@tool\n",
        "def save(filename: str) -> str:\n",
        "    \"\"\"Save the current document to a text file and finish the process.\n",
        "\n",
        "    Args:\n",
        "        filename: Name for the text file.\n",
        "    \"\"\"\n",
        "\n",
        "    global document_content\n",
        "\n",
        "    if not filename.endswith('.txt'):\n",
        "        filename = f\"{filename}.txt\"\n",
        "\n",
        "\n",
        "    try:\n",
        "        with open(filename, 'w') as file:\n",
        "            file.write(document_content)\n",
        "        print(f\"\\n💾 Document has been saved to: {filename}\")\n",
        "        return f\"Document has been saved successfully to '{filename}'.\"\n",
        "\n",
        "    except Exception as e:\n",
        "        return f\"Error saving document: {str(e)}\"\n",
        "\n",
        "\n",
        "tools = [update, save,search_web]"
      ],
      "metadata": {
        "id": "kjYJs5JTb1DC"
      },
      "execution_count": 11,
      "outputs": []
    },
    {
      "cell_type": "code",
      "source": [
        "model = ChatGoogleGenerativeAI(model=\"gemini-2.5-flash\").bind_tools(tools)"
      ],
      "metadata": {
        "id": "Br1NqkJMcLFX"
      },
      "execution_count": 12,
      "outputs": []
    },
    {
      "cell_type": "code",
      "source": [
        "def our_agent(state: AgentState) -> AgentState:\n",
        "    system_prompt = SystemMessage(content=f\"\"\"\n",
        "    You are a helpful and autonomous AI Research Assistant.\n",
        "    Your mission is to create a comprehensive report based on the user's request. Follow this logical workflow:\n",
        "    1.  **GATHER INFO**: Use the `search_web` tool if you need information.\n",
        "    2.  **SYNTHESIZE & WRITE DRAFT**: After gathering info, you MUST write a comprehensive draft using the `update` tool. Do not ask for permission; this is your primary job.\n",
        "    3.  **PRESENT & GET FEEDBACK**: After updating the draft, your response MUST be to present the draft to the user and ask for feedback.\n",
        "    4.  **SAVE**: Only use the `save` tool when the user explicitly asks to save the final document.\n",
        "\n",
        "    The current draft of the document is:\n",
        "    ---\n",
        "    {document_content}\n",
        "    ---\n",
        "    \"\"\")\n",
        "    if not state[\"messages\"]:\n",
        "        user_input = \"I'm ready to help you update a document. What would you like to create?\"\n",
        "        user_message = HumanMessage(content=user_input)\n",
        "\n",
        "    else:\n",
        "        user_input = input(\"\\nWhat would you like to do with the document? \")\n",
        "        print(f\"\\n👤 USER: {user_input}\")\n",
        "        user_message = HumanMessage(content=user_input)\n",
        "\n",
        "    all_messages = [system_prompt] + list(state[\"messages\"]) + [user_message]\n",
        "\n",
        "    response = model.invoke(all_messages)\n",
        "\n",
        "    print(f\"\\n🤖 AI: {response.content}\")\n",
        "    if hasattr(response, \"tool_calls\") and response.tool_calls:\n",
        "        print(f\"🔧 USING TOOLS: {[tc['name'] for tc in response.tool_calls]}\")\n",
        "\n",
        "    return {\"messages\": list(state[\"messages\"]) + [user_message, response]}\n",
        "\n"
      ],
      "metadata": {
        "id": "ycUvyfHucSoS"
      },
      "execution_count": 13,
      "outputs": []
    },
    {
      "cell_type": "code",
      "source": [
        "def should_continue(state: AgentState) -> str:\n",
        "    \"\"\"Determine if we should continue or end the conversation.\"\"\"\n",
        "\n",
        "    messages = state[\"messages\"]\n",
        "\n",
        "    if not messages:\n",
        "        return \"continue\"\n",
        "\n",
        "    # This looks for the most recent tool message....\n",
        "    for message in reversed(messages):\n",
        "        # ... and checks if this is a ToolMessage resulting from save\n",
        "        if (isinstance(message, ToolMessage) and\n",
        "            \"saved\" in message.content.lower() and\n",
        "            \"document\" in message.content.lower()):\n",
        "            return \"end\" # goes to the end edge which leads to the endpoint\n",
        "\n",
        "    return \"continue\""
      ],
      "metadata": {
        "id": "ff6CrVsPfpDc"
      },
      "execution_count": 14,
      "outputs": []
    },
    {
      "cell_type": "code",
      "source": [
        "def print_messages(messages):\n",
        "    \"\"\"Function I made to print the messages in a more readable format\"\"\"\n",
        "    if not messages:\n",
        "        return\n",
        "\n",
        "    for message in messages[-3:]:\n",
        "        if isinstance(message, ToolMessage):\n",
        "            print(f\"\\n🛠️ TOOL RESULT: {message.content}\")"
      ],
      "metadata": {
        "id": "uieRA7LchTN5"
      },
      "execution_count": 15,
      "outputs": []
    },
    {
      "cell_type": "code",
      "source": [
        "graph = StateGraph(AgentState)\n",
        "\n",
        "graph.add_node(\"agent\", our_agent)\n",
        "graph.add_node(\"tools\", ToolNode(tools))\n",
        "\n",
        "graph.set_entry_point(\"agent\")\n",
        "\n",
        "graph.add_edge(\"agent\", \"tools\")\n"
      ],
      "metadata": {
        "colab": {
          "base_uri": "https://localhost:8080/"
        },
        "id": "8m0HDkUMgoKG",
        "outputId": "b339d4cb-4336-4316-c232-abf7fc7bf5d2"
      },
      "execution_count": 17,
      "outputs": [
        {
          "output_type": "execute_result",
          "data": {
            "text/plain": [
              "<langgraph.graph.state.StateGraph at 0x7b3248d18f80>"
            ]
          },
          "metadata": {},
          "execution_count": 17
        }
      ]
    },
    {
      "cell_type": "code",
      "source": [
        "graph.add_conditional_edges(\n",
        "    \"tools\",\n",
        "    should_continue,\n",
        "    {\n",
        "        \"continue\": \"agent\",\n",
        "        \"end\": END,\n",
        "    },\n",
        ")"
      ],
      "metadata": {
        "colab": {
          "base_uri": "https://localhost:8080/"
        },
        "id": "ASVErQGZgsiV",
        "outputId": "9edb81bc-8f8e-4726-ba38-e1844995f561"
      },
      "execution_count": 18,
      "outputs": [
        {
          "output_type": "execute_result",
          "data": {
            "text/plain": [
              "<langgraph.graph.state.StateGraph at 0x7b3248d18f80>"
            ]
          },
          "metadata": {},
          "execution_count": 18
        }
      ]
    },
    {
      "cell_type": "code",
      "source": [
        "app = graph.compile()"
      ],
      "metadata": {
        "id": "15DWsYBehiws"
      },
      "execution_count": 19,
      "outputs": []
    },
    {
      "cell_type": "code",
      "source": [
        "\n",
        "def run_document_agent():\n",
        "    print(\"\\n ===== DRAFTER ===telek\")\n",
        "\n",
        "    # Start with an initial message\n",
        "    initial_message = HumanMessage(content=\"Hello, I'm ready to start drafting.\")\n",
        "    state = {\"messages\": [initial_message]}\n",
        "\n",
        "    for step in app.stream(state, stream_mode=\"values\"):\n",
        "        if \"messages\" in step:\n",
        "            print_messages(step[\"messages\"])\n",
        "\n",
        "    print(\"\\n ===== DRAFTER FINISHED ===telek\")\n",
        "\n",
        "if __name__ == \"__main__\":\n",
        "    run_document_agent()"
      ],
      "metadata": {
        "colab": {
          "base_uri": "https://localhost:8080/"
        },
        "id": "DpBkiJs3gtIB",
        "outputId": "aa07c1f9-9ac7-4493-b045-9f51b6b3842b"
      },
      "execution_count": 24,
      "outputs": [
        {
          "output_type": "stream",
          "name": "stdout",
          "text": [
            "\n",
            " ===== DRAFTER ===telek\n",
            "\n",
            "What would you like to do with the document? who narender modi write short not on it\n",
            "\n",
            "👤 USER: who narender modi write short not on it\n",
            "\n",
            "🤖 AI: \n",
            "🔧 USING TOOLS: ['search_web']\n",
            "\n",
            "🔎 Searching the web for: 'Narendra Modi short note'...\n",
            "✅ Search complete.\n",
            "\n",
            "🛠️ TOOL RESULT: [{'title': 'Narendra Modi - Wikipedia', 'href': 'https://en.wikipedia.org/wiki/Narendra_Modi', 'body': 'Narendra Damodardas Modi[a] (born 17 September 1950) is an Indian politician who has served as the prime minister of India since 2014. Modi was the chief minister of Gujarat from 2001 to 2014 and is the member of parliament (MP) for Varanasi. He is a member of the Bharatiya Janata Party (BJP) and of the Rashtriya Swayamsevak Sangh (RSS), a right-wing Hindutva paramilitary volunteer ...'}, {'title': 'Paragraph on Narendra Modi 100, 150, 200, 250 to 300 Words for Kids ...', 'href': 'https://www.aplustopper.com/paragraph-on-narendra-modi/', 'body': 'Paragraph on Narendra Modi - 250 to 300 words for Classes 9, 10 and, Competitive Exams Our Prime Minister, Mister Narendra Damodardas Modi was born on 17 September 1950 in Vadnagar, Gujarat. He is himself is a role model to many citizens around the globe.'}, {'title': 'Narendra Modi:10 Lines, Short and Long Essays for Students', 'href': 'https://www.jagranjosh.com/articles/narendra-modi-essay-in-english-for-students-1726555990-1', 'body': 'Narendra Modi Essay in English: Narendra Modi , born on September 17, 1950, in Vadnagar, Gujarat, is a prominent Indian politician and the current Prime Minister of India. Find here 10 lines, short ...'}, {'title': 'Narendra Modi | Biography, Career, & Facts | Britannica', 'href': 'https://www.britannica.com/biography/Narendra-Modi', 'body': \"Narendra Modi's economic reforms include demonetization (banning of certain currency notes ), introduction of the Goods and Services Tax (GST), and liberalization of rules on direct foreign investment.\"}]\n",
            "\n",
            "What would you like to do with the document? save this as info.txt\n",
            "\n",
            "👤 USER: save this as info.txt\n",
            "\n",
            "🤖 AI: \n",
            "🔧 USING TOOLS: ['update']\n",
            "\n",
            "🛠️ TOOL RESULT: [{'title': 'Narendra Modi - Wikipedia', 'href': 'https://en.wikipedia.org/wiki/Narendra_Modi', 'body': 'Narendra Damodardas Modi[a] (born 17 September 1950) is an Indian politician who has served as the prime minister of India since 2014. Modi was the chief minister of Gujarat from 2001 to 2014 and is the member of parliament (MP) for Varanasi. He is a member of the Bharatiya Janata Party (BJP) and of the Rashtriya Swayamsevak Sangh (RSS), a right-wing Hindutva paramilitary volunteer ...'}, {'title': 'Paragraph on Narendra Modi 100, 150, 200, 250 to 300 Words for Kids ...', 'href': 'https://www.aplustopper.com/paragraph-on-narendra-modi/', 'body': 'Paragraph on Narendra Modi - 250 to 300 words for Classes 9, 10 and, Competitive Exams Our Prime Minister, Mister Narendra Damodardas Modi was born on 17 September 1950 in Vadnagar, Gujarat. He is himself is a role model to many citizens around the globe.'}, {'title': 'Narendra Modi:10 Lines, Short and Long Essays for Students', 'href': 'https://www.jagranjosh.com/articles/narendra-modi-essay-in-english-for-students-1726555990-1', 'body': 'Narendra Modi Essay in English: Narendra Modi , born on September 17, 1950, in Vadnagar, Gujarat, is a prominent Indian politician and the current Prime Minister of India. Find here 10 lines, short ...'}, {'title': 'Narendra Modi | Biography, Career, & Facts | Britannica', 'href': 'https://www.britannica.com/biography/Narendra-Modi', 'body': \"Narendra Modi's economic reforms include demonetization (banning of certain currency notes ), introduction of the Goods and Services Tax (GST), and liberalization of rules on direct foreign investment.\"}]\n",
            "\n",
            "🛠️ TOOL RESULT: Document has been updated successfully! The current content is:\n",
            "Narendra Damodardas Modi, born on September 17, 1950, is an Indian politician who has served as the Prime Minister of India since 2014. He was previously the Chief Minister of Gujarat from 2001 to 2014. Modi is a member of the Bharatiya Janata Party (BJP) and the Rashtriya Swayamsevak Sangh (RSS). His economic reforms have included demonetization, the introduction of the Goods and Services Tax (GST), and liberalization of rules on direct foreign investment.\n",
            "\n",
            "What would you like to do with the document? save this \n",
            "\n",
            "👤 USER: save this \n",
            "\n",
            "🤖 AI: \n",
            "🔧 USING TOOLS: ['save']\n",
            "\n",
            "🛠️ TOOL RESULT: Document has been updated successfully! The current content is:\n",
            "Narendra Damodardas Modi, born on September 17, 1950, is an Indian politician who has served as the Prime Minister of India since 2014. He was previously the Chief Minister of Gujarat from 2001 to 2014. Modi is a member of the Bharatiya Janata Party (BJP) and the Rashtriya Swayamsevak Sangh (RSS). His economic reforms have included demonetization, the introduction of the Goods and Services Tax (GST), and liberalization of rules on direct foreign investment.\n",
            "\n",
            "💾 Document has been saved to: info.txt\n",
            "\n",
            "🛠️ TOOL RESULT: Document has been saved successfully to 'info.txt'.\n",
            "\n",
            " ===== DRAFTER FINISHED ===telek\n"
          ]
        }
      ]
    },
    {
      "cell_type": "code",
      "source": [
        "from IPython.display import Image, display\n",
        "display(Image(app.get_graph().draw_mermaid_png()))\n"
      ],
      "metadata": {
        "colab": {
          "base_uri": "https://localhost:8080/",
          "height": 398
        },
        "id": "o_e7JI6ElIK8",
        "outputId": "6132413e-1b3b-4b3a-ce9e-53a020057875"
      },
      "execution_count": 23,
      "outputs": [
        {
          "output_type": "display_data",
          "data": {
            "image/png": "[encoded data removed]",
            "text/plain": [
              "<IPython.core.display.Image object>"
            ]
          },
          "metadata": {}
        }
      ]
    }
  ]
}